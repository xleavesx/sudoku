{
 "cells": [
  {
   "cell_type": "code",
   "execution_count": 183,
   "metadata": {},
   "outputs": [],
   "source": [
    "model=[\n",
    "    [7,0,0,8,0,0,1,2,0],\n",
    "    [0,9,0,0,4,0,0,0,0],\n",
    "    [0,0,0,0,0,0,0,0,3],\n",
    "    [1,0,0,2,0,0,5,7,0],\n",
    "    [0,0,0,0,0,0,0,6,0], \n",
    "    [0,0,2,0,0,8,0,0,0],\n",
    "    [0,7,0,0,0,9,3,5,0],\n",
    "    [0,0,0,5,0,0,0,0,6],\n",
    "    [3,0,0,0,0,0,0,0,8]\n",
    "]\n",
    "\n",
    "import numpy as np\n"
   ]
  },
  {
   "cell_type": "code",
   "execution_count": 222,
   "metadata": {},
   "outputs": [],
   "source": [
    "def rest(rows,cols,blocks):\n",
    "    r = []\n",
    "    for i in range(1,10):\n",
    "        if (i not in rows) and (i not in cols) and (i not in blocks):\n",
    "            r.append(i)\n",
    "    return r\n",
    "def fill1(model2,stack):\n",
    "    r = None\n",
    "    rmin = 10\n",
    "    for rowi in range(9):    \n",
    "        for coli in range(9):\n",
    "            if model2[rowi][coli] == 0:\n",
    "                rows = model2[rowi]\n",
    "                cols = model2[:,coli]\n",
    "                blocks = model2[rowi//3*3:rowi//3*3+3,coli//3*3:coli//3*3+3] \n",
    "                blank = rest(rows,cols,blocks)\n",
    "                #print(rowi, coli, rows, cols, blocks, blank)\n",
    "                if len(blank)==1:\n",
    "                    model2[rowi][coli] = blank[0]\n",
    "                    #print(rowi,coli)\n",
    "                    return True\n",
    "                if len(blank)<rmin:\n",
    "                    rmin = len(blank)\n",
    "                    r = [rowi,coli,blank]\n",
    "    if(r is not None) and (len(r[2]) > 0) :#大于1可以么？\n",
    "        for i in range(1, len(r[2])): #range (1,4) 1，2，3\n",
    "            newmodel2 = np.copy(model2)\n",
    "            newmodel2[r[0]][r[1]]= r[2][i]\n",
    "            stack.append(newmodel2)\n",
    "        #print(r[0], r[1], r[2], model2)\n",
    "        \n",
    "        model2[r[0]][r[1]]=r[2][0]\n",
    "        return True\n",
    "    return False\n"
   ]
  },
  {
   "cell_type": "code",
   "execution_count": 217,
   "metadata": {},
   "outputs": [
    {
     "name": "stdout",
     "output_type": "stream",
     "text": [
      "[1 2]\n",
      "[2 2]\n"
     ]
    }
   ],
   "source": [
    "a=np.array([1,2])\n",
    "print(a)\n",
    "b = a[:]\n",
    "b[0] = 2\n",
    "print(a)"
   ]
  },
  {
   "cell_type": "code",
   "execution_count": 221,
   "metadata": {},
   "outputs": [
    {
     "name": "stdout",
     "output_type": "stream",
     "text": [
      "1 7\n",
      "2 7\n",
      "2 6\n",
      "3 8\n",
      "5 6\n",
      "5 8\n",
      "4 8\n",
      "4 6\n",
      "5 7\n",
      "[array([[7, 0, 0, 8, 0, 0, 1, 2, 0],\n",
      "       [0, 9, 0, 0, 4, 0, 7, 8, 0],\n",
      "       [0, 0, 0, 0, 0, 0, 0, 0, 3],\n",
      "       [1, 0, 0, 2, 0, 0, 5, 7, 0],\n",
      "       [0, 0, 0, 0, 0, 0, 0, 6, 0],\n",
      "       [0, 0, 2, 0, 0, 8, 0, 0, 0],\n",
      "       [0, 7, 0, 0, 0, 9, 3, 5, 0],\n",
      "       [0, 0, 0, 5, 0, 0, 0, 0, 6],\n",
      "       [3, 0, 0, 0, 0, 0, 0, 0, 8]]), array([[7, 0, 0, 8, 0, 0, 1, 2, 0],\n",
      "       [5, 9, 0, 0, 4, 0, 6, 8, 0],\n",
      "       [0, 0, 0, 0, 0, 0, 0, 0, 3],\n",
      "       [1, 0, 0, 2, 0, 0, 5, 7, 0],\n",
      "       [0, 0, 0, 0, 0, 0, 0, 6, 0],\n",
      "       [0, 0, 2, 0, 0, 8, 0, 0, 0],\n",
      "       [0, 7, 0, 0, 0, 9, 3, 5, 0],\n",
      "       [0, 0, 0, 5, 0, 0, 0, 0, 6],\n",
      "       [3, 0, 0, 0, 0, 0, 0, 0, 8]]), array([[7, 0, 0, 8, 0, 0, 1, 2, 0],\n",
      "       [2, 9, 0, 0, 4, 0, 6, 8, 7],\n",
      "       [0, 0, 0, 0, 0, 0, 0, 0, 3],\n",
      "       [1, 0, 0, 2, 0, 0, 5, 7, 0],\n",
      "       [0, 0, 0, 0, 0, 0, 0, 6, 0],\n",
      "       [0, 0, 2, 0, 0, 8, 0, 0, 0],\n",
      "       [0, 7, 0, 0, 0, 9, 3, 5, 0],\n",
      "       [0, 0, 0, 5, 0, 0, 0, 0, 6],\n",
      "       [3, 0, 0, 0, 0, 0, 0, 0, 8]]), array([[7, 0, 0, 8, 0, 0, 1, 2, 9],\n",
      "       [2, 9, 0, 0, 4, 0, 6, 8, 5],\n",
      "       [0, 0, 0, 0, 0, 0, 0, 0, 3],\n",
      "       [1, 0, 0, 2, 0, 0, 5, 7, 0],\n",
      "       [0, 0, 0, 0, 0, 0, 0, 6, 0],\n",
      "       [0, 0, 2, 0, 0, 8, 0, 0, 0],\n",
      "       [0, 7, 0, 0, 0, 9, 3, 5, 0],\n",
      "       [0, 0, 0, 5, 0, 0, 0, 0, 6],\n",
      "       [3, 0, 0, 0, 0, 0, 0, 0, 8]])]\n"
     ]
    }
   ],
   "source": [
    "stack =[]\n",
    "model2 = np.array([\n",
    "    [7,0,0,8,0,0,1,2,0],\n",
    "    [0,9,0,0,4,0,0,0,0],\n",
    "    [0,0,0,0,0,0,0,0,3],\n",
    "    [1,0,0,2,0,0,5,7,0],\n",
    "    [0,0,0,0,0,0,0,6,0], \n",
    "    [0,0,2,0,0,8,0,0,0],\n",
    "    [0,7,0,0,0,9,3,5,0],\n",
    "    [0,0,0,5,0,0,0,0,6],\n",
    "    [3,0,0,0,0,0,0,0,8]\n",
    "])\n",
    "while (fill1(model2, stack)):\n",
    "    continue\n",
    "print(stack)"
   ]
  },
  {
   "cell_type": "code",
   "execution_count": 224,
   "metadata": {},
   "outputs": [
    {
     "name": "stdout",
     "output_type": "stream",
     "text": [
      "total 78\n",
      "[[7 3 4 8 9 6 1 2 5]\n",
      " [2 9 5 3 4 1 6 8 7]\n",
      " [6 1 8 7 5 2 9 4 3]\n",
      " [1 8 3 2 6 4 5 7 9]\n",
      " [9 4 7 1 3 5 8 6 2]\n",
      " [5 6 2 9 7 8 4 3 1]\n",
      " [8 7 1 6 2 9 3 5 4]\n",
      " [4 2 9 5 8 3 7 1 6]\n",
      " [3 5 6 4 1 7 2 9 8]]\n"
     ]
    }
   ],
   "source": [
    "\n",
    "stack =[]\n",
    "model2 = np.array(model)\n",
    "ii = 1\n",
    "while (fill1(model2, stack)):\n",
    "    continue\n",
    "while ((model2 == 0).any()):#any是对矩阵判断是否有某个数字，只要有一个true则返回true\n",
    "    ii +=1\n",
    "    model2 = stack[-1]\n",
    "    stack = stack[:-1]\n",
    "    #print(\"back\", len(stack), model2)\n",
    "    while (fill1(model2,stack)):\n",
    "        continue\n",
    "print(\"total\",ii)\n",
    "print(model2)"
   ]
  },
  {
   "cell_type": "code",
   "execution_count": 115,
   "metadata": {},
   "outputs": [
    {
     "data": {
      "text/plain": [
       "6"
      ]
     },
     "execution_count": 115,
     "metadata": {},
     "output_type": "execute_result"
    }
   ],
   "source": [
    "AAAA = [1,2,3,4,5,6]\n",
    "AAAA = AAAA[-1]\n",
    "AAAA"
   ]
  },
  {
   "cell_type": "code",
   "execution_count": null,
   "metadata": {},
   "outputs": [],
   "source": []
  }
 ],
 "metadata": {
  "kernelspec": {
   "display_name": "Python 3",
   "language": "python",
   "name": "python3"
  },
  "language_info": {
   "codemirror_mode": {
    "name": "ipython",
    "version": 3
   },
   "file_extension": ".py",
   "mimetype": "text/x-python",
   "name": "python",
   "nbconvert_exporter": "python",
   "pygments_lexer": "ipython3",
   "version": "3.7.0"
  }
 },
 "nbformat": 4,
 "nbformat_minor": 2
}
